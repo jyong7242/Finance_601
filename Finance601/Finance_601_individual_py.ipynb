{
 "cells": [
  {
   "cell_type": "markdown",
   "id": "8a77807f92f26ee",
   "metadata": {},
   "source": [
    "# Finance 601 - Two Python Exercises\n",
    "\n",
    "## Exercise 1: The 1/N Investment Strategy\n",
    "Objective: To investigate how the volatility of returns of equally-weighted equity portfolios\n",
    " varies with the number of included stocks.\n",
    " \n",
    "Since my ID's XYZ is 928, which is odd,even,even, I'm assigned to case 5: RCI-B,DOL,L,SU,RY,CNR,CSU,NTR,EMA\n",
    "\n",
    "RCI-B: ROGERS COMMUNICATIONS INC (RCI-B.TO).\n",
    "\n",
    "DOL: DOLLARAMA INC (DOL.TO).\n",
    "\n",
    "L: LOBLAW COMPANIES LTD (L.TO).\n",
    "\n",
    "SU: SUNCOR ENERGY INC (SU.TO).\n",
    "\n",
    "RY: ROYAL BANK OF CANADA (RY.TO).\n",
    "\n",
    "CNR: CANADIAN NATIONAL RAILWAY CO (CNR.TO).\n",
    "\n",
    "CSU: CONSTELLATION SOFTWARE INC (CSU.TO).\n",
    "\n",
    "NTR: NUTRIEN LTD (NTR.TO).\n",
    "\n",
    "EMA: EMERA INCORPORATED (EMA.TO).\n"
   ]
  },
  {
   "cell_type": "code",
   "id": "fbc121e30a2defb3",
   "metadata": {
    "ExecuteTime": {
     "end_time": "2024-11-19T07:00:49.552102Z",
     "start_time": "2024-11-19T07:00:49.378437Z"
    }
   },
   "source": [
    "# Importing the necessary libraries\n",
    "import numpy as np\n",
    "import pandas as pd\n",
    "import yfinance as yf\n",
    "import matplotlib.pyplot as plt\n",
    "import seaborn as sns\n",
    "from datetime import datetime"
   ],
   "outputs": [],
   "execution_count": 1
  },
  {
   "cell_type": "code",
   "id": "35822b0f78ea6277",
   "metadata": {
    "ExecuteTime": {
     "end_time": "2024-11-19T07:00:49.556323Z",
     "start_time": "2024-11-19T07:00:49.553801Z"
    }
   },
   "source": [
    "# Set the start and end dates\n",
    "start_date = '2019-08-30' \n",
    "end_date = '2024-08-31'\n",
    "\n",
    "stocks = ['RCI-B.TO', 'DOL.TO', 'L.TO', 'SU.TO', 'RY.TO', 'CNR.TO', 'CSU.TO', 'NTR.TO', 'EMA.TO']"
   ],
   "outputs": [],
   "execution_count": 2
  },
  {
   "cell_type": "markdown",
   "id": "b4fe3a35e048b2e7",
   "metadata": {},
   "source": [
    "### Case 1: Sort the stocks by their ticker alphabetically"
   ]
  },
  {
   "cell_type": "code",
   "id": "7d0f534e1d1965b9",
   "metadata": {
    "ExecuteTime": {
     "end_time": "2024-11-19T07:00:49.559408Z",
     "start_time": "2024-11-19T07:00:49.557282Z"
    }
   },
   "source": [
    "# First lets sort the stocks by their ticker alphabetically and create a new list\n",
    "sorted_ascending = sorted(stocks)\n",
    "print(sorted_ascending)"
   ],
   "outputs": [
    {
     "name": "stdout",
     "output_type": "stream",
     "text": [
      "['CNR.TO', 'CSU.TO', 'DOL.TO', 'EMA.TO', 'L.TO', 'NTR.TO', 'RCI-B.TO', 'RY.TO', 'SU.TO']\n"
     ]
    }
   ],
   "execution_count": 3
  },
  {
   "cell_type": "code",
   "id": "6b72eee9c3a3ac0d",
   "metadata": {
    "ExecuteTime": {
     "end_time": "2024-11-19T07:00:50.908590Z",
     "start_time": "2024-11-19T07:00:49.560321Z"
    }
   },
   "source": [
    "# Fetching the data for the 9 stocks, with the close price and date, and store each of them in a pandas dataframe\n",
    "data_ascending = pd.DataFrame()\n",
    "for stock in sorted_ascending:\n",
    "    history = yf.Ticker(stock).history(start=start_date, end=end_date, auto_adjust=False)\n",
    "    #show history columns\n",
    "    data_ascending[stock + '_Close'] = history['Close']\n",
    "    data_ascending[stock + '_Dividends'] = history['Dividends']\n",
    "#show the first 5 rows of the data in the dataframes\n",
    "    print(history['Close'])"
   ],
   "outputs": [
    {
     "name": "stdout",
     "output_type": "stream",
     "text": [
      "Date\n",
      "2019-08-30 00:00:00-04:00    122.599998\n",
      "2019-09-03 00:00:00-04:00    121.339996\n",
      "2019-09-04 00:00:00-04:00    121.199997\n",
      "2019-09-05 00:00:00-04:00    124.040001\n",
      "2019-09-06 00:00:00-04:00    122.389999\n",
      "                                ...    \n",
      "2024-08-26 00:00:00-04:00    159.250000\n",
      "2024-08-27 00:00:00-04:00    158.889999\n",
      "2024-08-28 00:00:00-04:00    158.039993\n",
      "2024-08-29 00:00:00-04:00    157.779999\n",
      "2024-08-30 00:00:00-04:00    158.789993\n",
      "Name: Close, Length: 1256, dtype: float64\n",
      "Date\n",
      "2019-08-30 00:00:00-04:00    1296.709961\n",
      "2019-09-03 00:00:00-04:00    1284.640015\n",
      "2019-09-04 00:00:00-04:00    1298.959961\n",
      "2019-09-05 00:00:00-04:00    1320.030029\n",
      "2019-09-06 00:00:00-04:00    1303.810059\n",
      "                                ...     \n",
      "2024-08-26 00:00:00-04:00    4321.529785\n",
      "2024-08-27 00:00:00-04:00    4291.729980\n",
      "2024-08-28 00:00:00-04:00    4265.069824\n",
      "2024-08-29 00:00:00-04:00    4294.609863\n",
      "2024-08-30 00:00:00-04:00    4400.689941\n",
      "Name: Close, Length: 1256, dtype: float64\n",
      "Date\n",
      "2019-08-30 00:00:00-04:00     50.950001\n",
      "2019-09-03 00:00:00-04:00     49.570000\n",
      "2019-09-04 00:00:00-04:00     50.740002\n",
      "2019-09-05 00:00:00-04:00     50.950001\n",
      "2019-09-06 00:00:00-04:00     50.410000\n",
      "                                ...    \n",
      "2024-08-26 00:00:00-04:00    136.110001\n",
      "2024-08-27 00:00:00-04:00    137.070007\n",
      "2024-08-28 00:00:00-04:00    136.440002\n",
      "2024-08-29 00:00:00-04:00    134.110001\n",
      "2024-08-30 00:00:00-04:00    136.500000\n",
      "Name: Close, Length: 1256, dtype: float64\n",
      "Date\n",
      "2019-08-30 00:00:00-04:00    57.680000\n",
      "2019-09-03 00:00:00-04:00    58.230000\n",
      "2019-09-04 00:00:00-04:00    58.040001\n",
      "2019-09-05 00:00:00-04:00    57.169998\n",
      "2019-09-06 00:00:00-04:00    56.919998\n",
      "                               ...    \n",
      "2024-08-26 00:00:00-04:00    50.520000\n",
      "2024-08-27 00:00:00-04:00    50.419998\n",
      "2024-08-28 00:00:00-04:00    50.580002\n",
      "2024-08-29 00:00:00-04:00    50.470001\n",
      "2024-08-30 00:00:00-04:00    50.750000\n",
      "Name: Close, Length: 1256, dtype: float64\n",
      "Date\n",
      "2019-08-30 00:00:00-04:00     72.870003\n",
      "2019-09-03 00:00:00-04:00     73.150002\n",
      "2019-09-04 00:00:00-04:00     73.769997\n",
      "2019-09-05 00:00:00-04:00     74.250000\n",
      "2019-09-06 00:00:00-04:00     74.220001\n",
      "                                ...    \n",
      "2024-08-26 00:00:00-04:00    173.190002\n",
      "2024-08-27 00:00:00-04:00    173.020004\n",
      "2024-08-28 00:00:00-04:00    173.250000\n",
      "2024-08-29 00:00:00-04:00    174.000000\n",
      "2024-08-30 00:00:00-04:00    175.880005\n",
      "Name: Close, Length: 1256, dtype: float64\n",
      "Date\n",
      "2019-08-30 00:00:00-04:00    67.050003\n",
      "2019-09-03 00:00:00-04:00    65.680000\n",
      "2019-09-04 00:00:00-04:00    66.070000\n",
      "2019-09-05 00:00:00-04:00    68.019997\n",
      "2019-09-06 00:00:00-04:00    68.120003\n",
      "                               ...    \n",
      "2024-08-26 00:00:00-04:00    65.550003\n",
      "2024-08-27 00:00:00-04:00    65.120003\n",
      "2024-08-28 00:00:00-04:00    64.430000\n",
      "2024-08-29 00:00:00-04:00    65.120003\n",
      "2024-08-30 00:00:00-04:00    65.269997\n",
      "Name: Close, Length: 1256, dtype: float64\n",
      "Date\n",
      "2019-08-30 00:00:00-04:00    65.910004\n",
      "2019-09-03 00:00:00-04:00    65.589996\n",
      "2019-09-04 00:00:00-04:00    65.410004\n",
      "2019-09-05 00:00:00-04:00    65.209999\n",
      "2019-09-06 00:00:00-04:00    65.629997\n",
      "                               ...    \n",
      "2024-08-26 00:00:00-04:00    54.900002\n",
      "2024-08-27 00:00:00-04:00    55.290001\n",
      "2024-08-28 00:00:00-04:00    55.029999\n",
      "2024-08-29 00:00:00-04:00    54.869999\n",
      "2024-08-30 00:00:00-04:00    54.630001\n",
      "Name: Close, Length: 1256, dtype: float64\n",
      "Date\n",
      "2019-08-30 00:00:00-04:00     99.580002\n",
      "2019-09-03 00:00:00-04:00     99.430000\n",
      "2019-09-04 00:00:00-04:00     99.379997\n",
      "2019-09-05 00:00:00-04:00    100.690002\n",
      "2019-09-06 00:00:00-04:00    100.940002\n",
      "                                ...    \n",
      "2024-08-26 00:00:00-04:00    156.039993\n",
      "2024-08-27 00:00:00-04:00    156.570007\n",
      "2024-08-28 00:00:00-04:00    159.979996\n",
      "2024-08-29 00:00:00-04:00    160.750000\n",
      "2024-08-30 00:00:00-04:00    162.979996\n",
      "Name: Close, Length: 1256, dtype: float64\n",
      "Date\n",
      "2019-08-30 00:00:00-04:00    38.939999\n",
      "2019-09-03 00:00:00-04:00    38.330002\n",
      "2019-09-04 00:00:00-04:00    38.369999\n",
      "2019-09-05 00:00:00-04:00    39.099998\n",
      "2019-09-06 00:00:00-04:00    39.130001\n",
      "                               ...    \n",
      "2024-08-26 00:00:00-04:00    56.259998\n",
      "2024-08-27 00:00:00-04:00    54.900002\n",
      "2024-08-28 00:00:00-04:00    54.750000\n",
      "2024-08-29 00:00:00-04:00    55.270000\n",
      "2024-08-30 00:00:00-04:00    54.660000\n",
      "Name: Close, Length: 1256, dtype: float64\n"
     ]
    }
   ],
   "execution_count": 4
  },
  {
   "cell_type": "code",
   "id": "b1986903b786a3cc",
   "metadata": {
    "ExecuteTime": {
     "end_time": "2024-11-19T07:00:50.956996Z",
     "start_time": "2024-11-19T07:00:50.910184Z"
    }
   },
   "source": [
    "# Calculate the monthly returns of the stocks, here should be following the ME (Month End) frequency\n",
    "monthly_returns = pd.DataFrame()\n",
    "for stock in sorted_ascending:\n",
    "    close_col = stock + '_Close'\n",
    "    div_col = stock + '_Dividends'\n",
    "    monthly_returns[stock] = (data_ascending[close_col].resample('ME').last() + data_ascending[div_col].resample('ME').sum()) / \\\n",
    "                             data_ascending[close_col].resample('ME').last().shift(1) - 1\n",
    "\n",
    "monthly_returns = monthly_returns.dropna()\n",
    "monthly_returns.head()"
   ],
   "outputs": [
    {
     "data": {
      "text/plain": [
       "                             CNR.TO    CSU.TO    DOL.TO    EMA.TO      L.TO  \\\n",
       "Date                                                                          \n",
       "2019-09-30 00:00:00-04:00 -0.025302  0.021409 -0.069087  0.008322  0.039865   \n",
       "2019-10-31 00:00:00-04:00 -0.009751 -0.016869 -0.064853 -0.051874 -0.069176   \n",
       "2019-11-30 00:00:00-05:00  0.023854  0.091618  0.096592  0.001650  0.019362   \n",
       "2019-12-31 00:00:00-05:00 -0.021574 -0.110937 -0.081498  0.021421 -0.059846   \n",
       "2020-01-31 00:00:00-05:00  0.052779  0.102992  0.011293  0.067808  0.033433   \n",
       "\n",
       "                             NTR.TO  RCI-B.TO     RY.TO     SU.TO  \n",
       "Date                                                               \n",
       "2019-09-30 00:00:00-04:00 -0.006756 -0.013352  0.079233  0.083975  \n",
       "2019-10-31 00:00:00-04:00 -0.045303 -0.039052 -0.001675 -0.062934  \n",
       "2019-11-30 00:00:00-05:00 -0.004920  0.038865  0.023438  0.057967  \n",
       "2019-12-31 00:00:00-05:00  0.000941  0.008693 -0.054999  0.037413  \n",
       "2020-01-31 00:00:00-05:00 -0.091362  0.027605  0.028029 -0.049577  "
      ],
      "text/html": [
       "<div>\n",
       "<style scoped>\n",
       "    .dataframe tbody tr th:only-of-type {\n",
       "        vertical-align: middle;\n",
       "    }\n",
       "\n",
       "    .dataframe tbody tr th {\n",
       "        vertical-align: top;\n",
       "    }\n",
       "\n",
       "    .dataframe thead th {\n",
       "        text-align: right;\n",
       "    }\n",
       "</style>\n",
       "<table border=\"1\" class=\"dataframe\">\n",
       "  <thead>\n",
       "    <tr style=\"text-align: right;\">\n",
       "      <th></th>\n",
       "      <th>CNR.TO</th>\n",
       "      <th>CSU.TO</th>\n",
       "      <th>DOL.TO</th>\n",
       "      <th>EMA.TO</th>\n",
       "      <th>L.TO</th>\n",
       "      <th>NTR.TO</th>\n",
       "      <th>RCI-B.TO</th>\n",
       "      <th>RY.TO</th>\n",
       "      <th>SU.TO</th>\n",
       "    </tr>\n",
       "    <tr>\n",
       "      <th>Date</th>\n",
       "      <th></th>\n",
       "      <th></th>\n",
       "      <th></th>\n",
       "      <th></th>\n",
       "      <th></th>\n",
       "      <th></th>\n",
       "      <th></th>\n",
       "      <th></th>\n",
       "      <th></th>\n",
       "    </tr>\n",
       "  </thead>\n",
       "  <tbody>\n",
       "    <tr>\n",
       "      <th>2019-09-30 00:00:00-04:00</th>\n",
       "      <td>-0.025302</td>\n",
       "      <td>0.021409</td>\n",
       "      <td>-0.069087</td>\n",
       "      <td>0.008322</td>\n",
       "      <td>0.039865</td>\n",
       "      <td>-0.006756</td>\n",
       "      <td>-0.013352</td>\n",
       "      <td>0.079233</td>\n",
       "      <td>0.083975</td>\n",
       "    </tr>\n",
       "    <tr>\n",
       "      <th>2019-10-31 00:00:00-04:00</th>\n",
       "      <td>-0.009751</td>\n",
       "      <td>-0.016869</td>\n",
       "      <td>-0.064853</td>\n",
       "      <td>-0.051874</td>\n",
       "      <td>-0.069176</td>\n",
       "      <td>-0.045303</td>\n",
       "      <td>-0.039052</td>\n",
       "      <td>-0.001675</td>\n",
       "      <td>-0.062934</td>\n",
       "    </tr>\n",
       "    <tr>\n",
       "      <th>2019-11-30 00:00:00-05:00</th>\n",
       "      <td>0.023854</td>\n",
       "      <td>0.091618</td>\n",
       "      <td>0.096592</td>\n",
       "      <td>0.001650</td>\n",
       "      <td>0.019362</td>\n",
       "      <td>-0.004920</td>\n",
       "      <td>0.038865</td>\n",
       "      <td>0.023438</td>\n",
       "      <td>0.057967</td>\n",
       "    </tr>\n",
       "    <tr>\n",
       "      <th>2019-12-31 00:00:00-05:00</th>\n",
       "      <td>-0.021574</td>\n",
       "      <td>-0.110937</td>\n",
       "      <td>-0.081498</td>\n",
       "      <td>0.021421</td>\n",
       "      <td>-0.059846</td>\n",
       "      <td>0.000941</td>\n",
       "      <td>0.008693</td>\n",
       "      <td>-0.054999</td>\n",
       "      <td>0.037413</td>\n",
       "    </tr>\n",
       "    <tr>\n",
       "      <th>2020-01-31 00:00:00-05:00</th>\n",
       "      <td>0.052779</td>\n",
       "      <td>0.102992</td>\n",
       "      <td>0.011293</td>\n",
       "      <td>0.067808</td>\n",
       "      <td>0.033433</td>\n",
       "      <td>-0.091362</td>\n",
       "      <td>0.027605</td>\n",
       "      <td>0.028029</td>\n",
       "      <td>-0.049577</td>\n",
       "    </tr>\n",
       "  </tbody>\n",
       "</table>\n",
       "</div>"
      ]
     },
     "execution_count": 5,
     "metadata": {},
     "output_type": "execute_result"
    }
   ],
   "execution_count": 5
  },
  {
   "cell_type": "code",
   "id": "8f97eac735a16fc2",
   "metadata": {
    "ExecuteTime": {
     "end_time": "2024-11-19T07:00:50.962530Z",
     "start_time": "2024-11-19T07:00:50.957942Z"
    }
   },
   "source": [
    "# Calculate each stock's monthly return standard deviation\n",
    "monthly_volatility = monthly_returns.std()\n",
    "# Store the monthly volatility in a dataframe\n",
    "monthly_volatility = pd.DataFrame(monthly_volatility, columns=['Volatility'])\n",
    "monthly_volatility"
   ],
   "outputs": [
    {
     "data": {
      "text/plain": [
       "          Volatility\n",
       "CNR.TO      0.052584\n",
       "CSU.TO      0.064011\n",
       "DOL.TO      0.061220\n",
       "EMA.TO      0.040595\n",
       "L.TO        0.050900\n",
       "NTR.TO      0.088056\n",
       "RCI-B.TO    0.053658\n",
       "RY.TO       0.053777\n",
       "SU.TO       0.110256"
      ],
      "text/html": [
       "<div>\n",
       "<style scoped>\n",
       "    .dataframe tbody tr th:only-of-type {\n",
       "        vertical-align: middle;\n",
       "    }\n",
       "\n",
       "    .dataframe tbody tr th {\n",
       "        vertical-align: top;\n",
       "    }\n",
       "\n",
       "    .dataframe thead th {\n",
       "        text-align: right;\n",
       "    }\n",
       "</style>\n",
       "<table border=\"1\" class=\"dataframe\">\n",
       "  <thead>\n",
       "    <tr style=\"text-align: right;\">\n",
       "      <th></th>\n",
       "      <th>Volatility</th>\n",
       "    </tr>\n",
       "  </thead>\n",
       "  <tbody>\n",
       "    <tr>\n",
       "      <th>CNR.TO</th>\n",
       "      <td>0.052584</td>\n",
       "    </tr>\n",
       "    <tr>\n",
       "      <th>CSU.TO</th>\n",
       "      <td>0.064011</td>\n",
       "    </tr>\n",
       "    <tr>\n",
       "      <th>DOL.TO</th>\n",
       "      <td>0.061220</td>\n",
       "    </tr>\n",
       "    <tr>\n",
       "      <th>EMA.TO</th>\n",
       "      <td>0.040595</td>\n",
       "    </tr>\n",
       "    <tr>\n",
       "      <th>L.TO</th>\n",
       "      <td>0.050900</td>\n",
       "    </tr>\n",
       "    <tr>\n",
       "      <th>NTR.TO</th>\n",
       "      <td>0.088056</td>\n",
       "    </tr>\n",
       "    <tr>\n",
       "      <th>RCI-B.TO</th>\n",
       "      <td>0.053658</td>\n",
       "    </tr>\n",
       "    <tr>\n",
       "      <th>RY.TO</th>\n",
       "      <td>0.053777</td>\n",
       "    </tr>\n",
       "    <tr>\n",
       "      <th>SU.TO</th>\n",
       "      <td>0.110256</td>\n",
       "    </tr>\n",
       "  </tbody>\n",
       "</table>\n",
       "</div>"
      ]
     },
     "execution_count": 6,
     "metadata": {},
     "output_type": "execute_result"
    }
   ],
   "execution_count": 6
  },
  {
   "cell_type": "code",
   "id": "e06197ea17c3b075",
   "metadata": {
    "ExecuteTime": {
     "end_time": "2024-11-19T07:00:50.973475Z",
     "start_time": "2024-11-19T07:00:50.964783Z"
    }
   },
   "source": [
    "# First stock standard deviation\n",
    "one_stock_std_dev = monthly_returns[sorted_ascending[0]].std()\n",
    "\n",
    "# Two combined stock standard deviation\n",
    "two_stock_returns = (monthly_returns[sorted_ascending[0]] + monthly_returns[stocks[1]]) / 2\n",
    "two_stock_std_dev = two_stock_returns.std()\n",
    "\n",
    "# Check the results\n",
    "print(f\"Single stock (first stock) standard deviation: {one_stock_std_dev}\")\n",
    "print(f\"Two-stock portfolio standard deviation: {two_stock_std_dev}\")\n",
    "\n",
    "# Use a loop to calculate the standard deviation of the portfolios start with 1 to 9 stocks\n",
    "portfolio_std_devs = []  # Store the standard deviations of the portfolios\n",
    "for n in range(1, len(sorted_ascending) + 1):\n",
    "    # Calculate the average return of the n stocks\n",
    "    portfolio_returns = monthly_returns[sorted_ascending[:n]].mean(axis=1)\n",
    "    # Calculate the standard deviation of the portfolio\n",
    "    portfolio_std_dev = portfolio_returns.std()\n",
    "    portfolio_std_devs.append(portfolio_std_dev)\n",
    "    print(f\"{n}-stock portfolio standard deviation: {portfolio_std_dev}\")"
   ],
   "outputs": [
    {
     "name": "stdout",
     "output_type": "stream",
     "text": [
      "Single stock (first stock) standard deviation: 0.05258390791386853\n",
      "Two-stock portfolio standard deviation: 0.04593138474217189\n",
      "1-stock portfolio standard deviation: 0.05258390791386853\n",
      "2-stock portfolio standard deviation: 0.049637985400251966\n",
      "3-stock portfolio standard deviation: 0.046078754640763296\n",
      "4-stock portfolio standard deviation: 0.04002474364098832\n",
      "5-stock portfolio standard deviation: 0.0383333125257955\n",
      "6-stock portfolio standard deviation: 0.038127580841160046\n",
      "7-stock portfolio standard deviation: 0.037450259252142654\n",
      "8-stock portfolio standard deviation: 0.03719333650858423\n",
      "9-stock portfolio standard deviation: 0.03903958764148039\n"
     ]
    }
   ],
   "execution_count": 7
  },
  {
   "cell_type": "code",
   "id": "a873561dc48eabd5",
   "metadata": {
    "ExecuteTime": {
     "end_time": "2024-11-19T07:00:50.976603Z",
     "start_time": "2024-11-19T07:00:50.974280Z"
    }
   },
   "source": [
    "len(portfolio_std_devs)"
   ],
   "outputs": [
    {
     "data": {
      "text/plain": [
       "9"
      ]
     },
     "execution_count": 8,
     "metadata": {},
     "output_type": "execute_result"
    }
   ],
   "execution_count": 8
  },
  {
   "cell_type": "code",
   "id": "89bc6f345d56cc00",
   "metadata": {
    "ExecuteTime": {
     "end_time": "2024-11-19T07:00:51.123399Z",
     "start_time": "2024-11-19T07:00:50.977254Z"
    }
   },
   "source": [
    "# Plot the results\n",
    "x = list(range(1, len(stocks) + 1))  # 1 to 9\n",
    "y = portfolio_std_devs  # Standard deviations of the portfolios\n",
    "\n",
    "plt.figure(figsize=(10, 6))\n",
    "plt.plot(x, y, marker='o', linestyle='-', color='b')\n",
    "plt.title(\"Sample Standard Deviation of Portfolio Returns vs. Number of Stocks (Ascending Order)\")\n",
    "plt.xlabel(\"Number of Stocks in Portfolio\")\n",
    "plt.ylabel(\"Sample Standard Deviation of Portfolio Returns\")\n",
    "plt.xticks(x)  # Set the x-axis to display 1 to 9\n",
    "plt.grid(True)\n",
    "plt.show()"
   ],
   "outputs": [
    {
     "data": {
      "text/plain": [
       "<Figure size 1000x600 with 1 Axes>"
      ],
      "image/png": "[encoded data removed]"
     },
     "metadata": {},
     "output_type": "display_data"
    }
   ],
   "execution_count": 9
  },
  {
   "cell_type": "markdown",
   "id": "c50db9240d288f18",
   "metadata": {},
   "source": [
    "### Case 2: Sort the stocks alphabetically but in reverse order"
   ]
  },
  {
   "cell_type": "code",
   "id": "28bcf200fbe17b70",
   "metadata": {
    "ExecuteTime": {
     "end_time": "2024-11-19T07:00:51.266364Z",
     "start_time": "2024-11-19T07:00:51.124629Z"
    }
   },
   "source": [
    "stocks.sort(reverse=True)\n",
    "print(stocks)\n",
    "#Basically, the same as the previous case, just need to run the same code again\n",
    "# Fetching the data for the 9 stocks, with the close price and date, and store each of them in a pandas dataframe\n",
    "data_descending = pd.DataFrame()\n",
    "for stock in stocks:\n",
    "    history = yf.Ticker(stock).history(start=start_date, end=end_date, auto_adjust=False)\n",
    "    data_descending[stock + '_Close'] = history['Close']\n",
    "    data_descending[stock + '_Dividends'] = history['Dividends']\n",
    "#show the first 5 rows of the data in the dataframes\n",
    "data_descending.head()\n",
    "# Calculate each stock's monthly return standard deviation\n",
    "monthly_returns = pd.DataFrame()\n",
    "for stock in stocks:\n",
    "    close_col = stock + '_Close'\n",
    "    div_col = stock + '_Dividends'\n",
    "    monthly_returns[stock] = (data_ascending[close_col].resample('ME').last() + data_ascending[div_col].resample('ME').sum()) / \\\n",
    "                             data_ascending[close_col].resample('ME').last().shift(1) - 1\n",
    "monthly_volatility = monthly_returns.std()\n",
    "# Store the monthly volatility in a dataframe\n",
    "monthly_volatility = pd.DataFrame(monthly_volatility, columns=['Volatility'])\n",
    "monthly_returns = monthly_returns.dropna()\n",
    "monthly_returns.head()"
   ],
   "outputs": [
    {
     "name": "stdout",
     "output_type": "stream",
     "text": [
      "['SU.TO', 'RY.TO', 'RCI-B.TO', 'NTR.TO', 'L.TO', 'EMA.TO', 'DOL.TO', 'CSU.TO', 'CNR.TO']\n"
     ]
    },
    {
     "data": {
      "text/plain": [
       "                              SU.TO     RY.TO  RCI-B.TO    NTR.TO      L.TO  \\\n",
       "Date                                                                          \n",
       "2019-09-30 00:00:00-04:00  0.083975  0.079233 -0.013352 -0.006756  0.039865   \n",
       "2019-10-31 00:00:00-04:00 -0.062934 -0.001675 -0.039052 -0.045303 -0.069176   \n",
       "2019-11-30 00:00:00-05:00  0.057967  0.023438  0.038865 -0.004920  0.019362   \n",
       "2019-12-31 00:00:00-05:00  0.037413 -0.054999  0.008693  0.000941 -0.059846   \n",
       "2020-01-31 00:00:00-05:00 -0.049577  0.028029  0.027605 -0.091362  0.033433   \n",
       "\n",
       "                             EMA.TO    DOL.TO    CSU.TO    CNR.TO  \n",
       "Date                                                               \n",
       "2019-09-30 00:00:00-04:00  0.008322 -0.069087  0.021409 -0.025302  \n",
       "2019-10-31 00:00:00-04:00 -0.051874 -0.064853 -0.016869 -0.009751  \n",
       "2019-11-30 00:00:00-05:00  0.001650  0.096592  0.091618  0.023854  \n",
       "2019-12-31 00:00:00-05:00  0.021421 -0.081498 -0.110937 -0.021574  \n",
       "2020-01-31 00:00:00-05:00  0.067808  0.011293  0.102992  0.052779  "
      ],
      "text/html": [
       "<div>\n",
       "<style scoped>\n",
       "    .dataframe tbody tr th:only-of-type {\n",
       "        vertical-align: middle;\n",
       "    }\n",
       "\n",
       "    .dataframe tbody tr th {\n",
       "        vertical-align: top;\n",
       "    }\n",
       "\n",
       "    .dataframe thead th {\n",
       "        text-align: right;\n",
       "    }\n",
       "</style>\n",
       "<table border=\"1\" class=\"dataframe\">\n",
       "  <thead>\n",
       "    <tr style=\"text-align: right;\">\n",
       "      <th></th>\n",
       "      <th>SU.TO</th>\n",
       "      <th>RY.TO</th>\n",
       "      <th>RCI-B.TO</th>\n",
       "      <th>NTR.TO</th>\n",
       "      <th>L.TO</th>\n",
       "      <th>EMA.TO</th>\n",
       "      <th>DOL.TO</th>\n",
       "      <th>CSU.TO</th>\n",
       "      <th>CNR.TO</th>\n",
       "    </tr>\n",
       "    <tr>\n",
       "      <th>Date</th>\n",
       "      <th></th>\n",
       "      <th></th>\n",
       "      <th></th>\n",
       "      <th></th>\n",
       "      <th></th>\n",
       "      <th></th>\n",
       "      <th></th>\n",
       "      <th></th>\n",
       "      <th></th>\n",
       "    </tr>\n",
       "  </thead>\n",
       "  <tbody>\n",
       "    <tr>\n",
       "      <th>2019-09-30 00:00:00-04:00</th>\n",
       "      <td>0.083975</td>\n",
       "      <td>0.079233</td>\n",
       "      <td>-0.013352</td>\n",
       "      <td>-0.006756</td>\n",
       "      <td>0.039865</td>\n",
       "      <td>0.008322</td>\n",
       "      <td>-0.069087</td>\n",
       "      <td>0.021409</td>\n",
       "      <td>-0.025302</td>\n",
       "    </tr>\n",
       "    <tr>\n",
       "      <th>2019-10-31 00:00:00-04:00</th>\n",
       "      <td>-0.062934</td>\n",
       "      <td>-0.001675</td>\n",
       "      <td>-0.039052</td>\n",
       "      <td>-0.045303</td>\n",
       "      <td>-0.069176</td>\n",
       "      <td>-0.051874</td>\n",
       "      <td>-0.064853</td>\n",
       "      <td>-0.016869</td>\n",
       "      <td>-0.009751</td>\n",
       "    </tr>\n",
       "    <tr>\n",
       "      <th>2019-11-30 00:00:00-05:00</th>\n",
       "      <td>0.057967</td>\n",
       "      <td>0.023438</td>\n",
       "      <td>0.038865</td>\n",
       "      <td>-0.004920</td>\n",
       "      <td>0.019362</td>\n",
       "      <td>0.001650</td>\n",
       "      <td>0.096592</td>\n",
       "      <td>0.091618</td>\n",
       "      <td>0.023854</td>\n",
       "    </tr>\n",
       "    <tr>\n",
       "      <th>2019-12-31 00:00:00-05:00</th>\n",
       "      <td>0.037413</td>\n",
       "      <td>-0.054999</td>\n",
       "      <td>0.008693</td>\n",
       "      <td>0.000941</td>\n",
       "      <td>-0.059846</td>\n",
       "      <td>0.021421</td>\n",
       "      <td>-0.081498</td>\n",
       "      <td>-0.110937</td>\n",
       "      <td>-0.021574</td>\n",
       "    </tr>\n",
       "    <tr>\n",
       "      <th>2020-01-31 00:00:00-05:00</th>\n",
       "      <td>-0.049577</td>\n",
       "      <td>0.028029</td>\n",
       "      <td>0.027605</td>\n",
       "      <td>-0.091362</td>\n",
       "      <td>0.033433</td>\n",
       "      <td>0.067808</td>\n",
       "      <td>0.011293</td>\n",
       "      <td>0.102992</td>\n",
       "      <td>0.052779</td>\n",
       "    </tr>\n",
       "  </tbody>\n",
       "</table>\n",
       "</div>"
      ]
     },
     "execution_count": 10,
     "metadata": {},
     "output_type": "execute_result"
    }
   ],
   "execution_count": 10
  },
  {
   "cell_type": "code",
   "id": "6efd5df49c394a16",
   "metadata": {
    "ExecuteTime": {
     "end_time": "2024-11-19T07:00:51.276874Z",
     "start_time": "2024-11-19T07:00:51.267362Z"
    }
   },
   "source": [
    "# First stock standard deviation\n",
    "one_stock_std_dev = monthly_returns[stocks[0]].std()\n",
    "\n",
    "# Two combined stock standard deviation\n",
    "two_stock_returns = (monthly_returns[stocks[0]] + monthly_returns[stocks[1]]) / 2\n",
    "two_stock_std_dev = two_stock_returns.std()\n",
    "\n",
    "# Check the results\n",
    "print(f\"Single stock (first stock) standard deviation: {one_stock_std_dev}\")\n",
    "print(f\"Two-stock portfolio standard deviation: {two_stock_std_dev}\")\n",
    "\n",
    "# Use a loop to calculate the standard deviation of the portfolios start with 1 to 9 stocks\n",
    "portfolio_std_devs_descending = []  # Store the standard deviations of the portfolios\n",
    "for n in range(1, len(stocks) + 1):\n",
    "    # Calculate the average return of the n stocks\n",
    "    portfolio_returns = monthly_returns[stocks[:n]].mean(axis=1)\n",
    "    # Calculate the standard deviation of the portfolio\n",
    "    portfolio_std_dev = portfolio_returns.std()\n",
    "    portfolio_std_devs_descending.append(portfolio_std_dev)\n",
    "    print(f\"{n}-stock portfolio standard deviation: {portfolio_std_dev}\")"
   ],
   "outputs": [
    {
     "name": "stdout",
     "output_type": "stream",
     "text": [
      "Single stock (first stock) standard deviation: 0.11025616637188741\n",
      "Two-stock portfolio standard deviation: 0.07179335864434472\n",
      "1-stock portfolio standard deviation: 0.11025616637188741\n",
      "2-stock portfolio standard deviation: 0.07179335864434472\n",
      "3-stock portfolio standard deviation: 0.057981026258427\n",
      "4-stock portfolio standard deviation: 0.05724544362702847\n",
      "5-stock portfolio standard deviation: 0.04815276679987882\n",
      "6-stock portfolio standard deviation: 0.043034277856161936\n",
      "7-stock portfolio standard deviation: 0.04163058288690882\n",
      "8-stock portfolio standard deviation: 0.04042800469923173\n",
      "9-stock portfolio standard deviation: 0.03903958764148039\n"
     ]
    }
   ],
   "execution_count": 11
  },
  {
   "cell_type": "code",
   "id": "b62f453c58fc3238",
   "metadata": {
    "ExecuteTime": {
     "end_time": "2024-11-19T07:00:51.406825Z",
     "start_time": "2024-11-19T07:00:51.277857Z"
    }
   },
   "source": [
    "# Plot the results\n",
    "x = list(range(1, len(stocks) + 1))  # 1 to 9\n",
    "y = portfolio_std_devs_descending  # Standard deviations of the portfolios in descending order\n",
    "\n",
    "plt.figure(figsize=(10, 6))\n",
    "plt.plot(x, y, marker='o', linestyle='-', color='b')\n",
    "plt.title(\"Sample Standard Deviation of Portfolio Returns vs. Number of Stocks (Descending Order)\")\n",
    "plt.xlabel(\"Number of Stocks in Portfolio\")\n",
    "plt.ylabel(\"Sample Standard Deviation of Portfolio Returns\")\n",
    "plt.xticks(x)  # Set the x-axis to display 1 to 9\n",
    "plt.grid(True)\n",
    "plt.show()"
   ],
   "outputs": [
    {
     "data": {
      "text/plain": [
       "<Figure size 1000x600 with 1 Axes>"
      ],
      "image/png": "[encoded data removed]"
     },
     "metadata": {},
     "output_type": "display_data"
    }
   ],
   "execution_count": 12
  },
  {
   "cell_type": "markdown",
   "id": "a3731dd973ab0a7f",
   "metadata": {},
   "source": [
    "## Interpretation of the results in Exercise 1\n",
    "\n",
    "1. The standard deviation of the portfolio returns is a measure of the risk or volatility of the portfolio. From the two plots above, we can see that the standard deviation of the portfolio returns decreases as the number of stocks in the portfolio increases. \n",
    "\n",
    "2. This is consistent with the concept of diversification, where adding more stocks to a portfolio can reduce the overall risk of the portfolio.  \n",
    "\n",
    "3. The first plot shows the standard deviation of the portfolio returns when the stocks are sorted alphabetically, while the second plot shows the standard deviation of the portfolio returns when the stocks are sorted alphabetically but in reverse order. \n",
    "\n",
    "4. The results are similar in both cases, indicating that the order of the stocks does not affect the risk reduction achieved by diversification."
   ]
  },
  {
   "cell_type": "markdown",
   "id": "dd3a0f9812a01853",
   "metadata": {},
   "source": [
    "## Exercise 2: The Volatility Index V IX\n",
    "\n",
    "Objective: This exercise is intended to assess whether the well-known volatility index V IX\n",
    " provides a better forecast of the daily volatility of the equity market in the month ahead,\n",
    " as compared to a more traditional approach that is based on the past volatility of the SPY\n",
    " daily returns. (The exchange traded fund SPY tracks the S&P 500 index.)\n",
    " \n",
    "Since my SID's XYZ is 928, I'm assigned to case 1: start from 2020-01-01 and end at:2024-09-01"
   ]
  },
  {
   "cell_type": "code",
   "id": "b30fd6c2b28c44e1",
   "metadata": {
    "ExecuteTime": {
     "end_time": "2024-11-19T07:00:51.410161Z",
     "start_time": "2024-11-19T07:00:51.407985Z"
    }
   },
   "source": [
    "# Set the start and end dates\n",
    "start_date = '2020-01-01'\n",
    "end_date = '2024-09-01'\n"
   ],
   "outputs": [],
   "execution_count": 13
  },
  {
   "cell_type": "code",
   "id": "6bf136550582224",
   "metadata": {
    "ExecuteTime": {
     "end_time": "2024-11-19T07:00:51.635834Z",
     "start_time": "2024-11-19T07:00:51.411243Z"
    }
   },
   "source": [
    "# Fetch the data for the SPY ETF and the VIX daily close prices into two separate dataframes\n",
    "spy_data = yf.Ticker(\"SPY\").history(start=start_date, end=end_date, interval=\"1d\", auto_adjust=False)\n",
    "vix_close = yf.Ticker('^VIX').history( start=start_date, end=end_date, interval=\"1d\", auto_adjust=False)\n",
    "\n",
    "# Drop NaN values and reset index to get 'Date' column\n",
    "spy_close = spy_data['Close'].dropna().reset_index()\n",
    "spy_dividends = spy_data['Dividends'].dropna().reset_index()\n",
    "vix_close = vix_close['Close'].dropna().reset_index()\n",
    "\n",
    "# Convert 'Date' column to date format without time\n",
    "spy_close['Date'] = spy_close['Date'].dt.date\n",
    "spy_dividends['Date'] = spy_dividends['Date'].dt.date\n",
    "vix_close['Date'] = vix_close['Date'].dt.date\n",
    "\n",
    "# Rename 'Close' columns to differentiate between SPY and VIX\n",
    "spy_close.rename(columns={'Close': 'SPY'}, inplace=True)\n",
    "vix_close.rename(columns={'Close': 'VIX'}, inplace=True)\n",
    "\n",
    "# combined_data = pd.concat([spy_close, vix_close], axis=1, keys=['SPY', 'VIX'])\n",
    "combined_data = pd.merge(vix_close, spy_close, on='Date', how='inner')\n",
    "\n",
    "#show spy_data\n",
    "combined_data\n",
    "\n"
   ],
   "outputs": [
    {
     "data": {
      "text/plain": [
       "            Date        VIX         SPY\n",
       "0     2020-01-02  12.470000  324.869995\n",
       "1     2020-01-03  14.020000  322.410004\n",
       "2     2020-01-06  13.850000  323.640015\n",
       "3     2020-01-07  13.790000  322.730011\n",
       "4     2020-01-08  13.450000  324.450012\n",
       "...          ...        ...         ...\n",
       "1169  2024-08-26  16.150000  560.789978\n",
       "1170  2024-08-27  15.430000  561.559998\n",
       "1171  2024-08-28  17.110001  558.299988\n",
       "1172  2024-08-29  15.650000  558.349976\n",
       "1173  2024-08-30  15.000000  563.679993\n",
       "\n",
       "[1174 rows x 3 columns]"
      ],
      "text/html": [
       "<div>\n",
       "<style scoped>\n",
       "    .dataframe tbody tr th:only-of-type {\n",
       "        vertical-align: middle;\n",
       "    }\n",
       "\n",
       "    .dataframe tbody tr th {\n",
       "        vertical-align: top;\n",
       "    }\n",
       "\n",
       "    .dataframe thead th {\n",
       "        text-align: right;\n",
       "    }\n",
       "</style>\n",
       "<table border=\"1\" class=\"dataframe\">\n",
       "  <thead>\n",
       "    <tr style=\"text-align: right;\">\n",
       "      <th></th>\n",
       "      <th>Date</th>\n",
       "      <th>VIX</th>\n",
       "      <th>SPY</th>\n",
       "    </tr>\n",
       "  </thead>\n",
       "  <tbody>\n",
       "    <tr>\n",
       "      <th>0</th>\n",
       "      <td>2020-01-02</td>\n",
       "      <td>12.470000</td>\n",
       "      <td>324.869995</td>\n",
       "    </tr>\n",
       "    <tr>\n",
       "      <th>1</th>\n",
       "      <td>2020-01-03</td>\n",
       "      <td>14.020000</td>\n",
       "      <td>322.410004</td>\n",
       "    </tr>\n",
       "    <tr>\n",
       "      <th>2</th>\n",
       "      <td>2020-01-06</td>\n",
       "      <td>13.850000</td>\n",
       "      <td>323.640015</td>\n",
       "    </tr>\n",
       "    <tr>\n",
       "      <th>3</th>\n",
       "      <td>2020-01-07</td>\n",
       "      <td>13.790000</td>\n",
       "      <td>322.730011</td>\n",
       "    </tr>\n",
       "    <tr>\n",
       "      <th>4</th>\n",
       "      <td>2020-01-08</td>\n",
       "      <td>13.450000</td>\n",
       "      <td>324.450012</td>\n",
       "    </tr>\n",
       "    <tr>\n",
       "      <th>...</th>\n",
       "      <td>...</td>\n",
       "      <td>...</td>\n",
       "      <td>...</td>\n",
       "    </tr>\n",
       "    <tr>\n",
       "      <th>1169</th>\n",
       "      <td>2024-08-26</td>\n",
       "      <td>16.150000</td>\n",
       "      <td>560.789978</td>\n",
       "    </tr>\n",
       "    <tr>\n",
       "      <th>1170</th>\n",
       "      <td>2024-08-27</td>\n",
       "      <td>15.430000</td>\n",
       "      <td>561.559998</td>\n",
       "    </tr>\n",
       "    <tr>\n",
       "      <th>1171</th>\n",
       "      <td>2024-08-28</td>\n",
       "      <td>17.110001</td>\n",
       "      <td>558.299988</td>\n",
       "    </tr>\n",
       "    <tr>\n",
       "      <th>1172</th>\n",
       "      <td>2024-08-29</td>\n",
       "      <td>15.650000</td>\n",
       "      <td>558.349976</td>\n",
       "    </tr>\n",
       "    <tr>\n",
       "      <th>1173</th>\n",
       "      <td>2024-08-30</td>\n",
       "      <td>15.000000</td>\n",
       "      <td>563.679993</td>\n",
       "    </tr>\n",
       "  </tbody>\n",
       "</table>\n",
       "<p>1174 rows × 3 columns</p>\n",
       "</div>"
      ]
     },
     "execution_count": 14,
     "metadata": {},
     "output_type": "execute_result"
    }
   ],
   "execution_count": 14
  },
  {
   "cell_type": "code",
   "id": "85a9d05726f5c113",
   "metadata": {
    "ExecuteTime": {
     "end_time": "2024-11-19T07:00:51.643591Z",
     "start_time": "2024-11-19T07:00:51.636763Z"
    }
   },
   "source": [
    "# Calculate the daily returns of the SPY ETF including dividends\n",
    "spy_returns = (spy_close['SPY'] + spy_dividends['Dividends']) / spy_close['SPY'].shift(1) - 1\n",
    "\n",
    "#Combine the two dataframes into one\n",
    "combined_data = pd.concat([ vix_close, spy_returns], axis=1)\n",
    "\n",
    "combined_data.columns = ['Dates','VIX', 'SPY_Returns'] \n",
    "combined_data['Dates'] = pd.to_datetime(combined_data['Dates'])\n",
    "combined_data.set_index('Dates', inplace=True)\n",
    "combined_data"
   ],
   "outputs": [
    {
     "data": {
      "text/plain": [
       "                  VIX  SPY_Returns\n",
       "Dates                             \n",
       "2020-01-02  12.470000          NaN\n",
       "2020-01-03  14.020000    -0.007572\n",
       "2020-01-06  13.850000     0.003815\n",
       "2020-01-07  13.790000    -0.002812\n",
       "2020-01-08  13.450000     0.005330\n",
       "...               ...          ...\n",
       "2024-08-26  16.150000    -0.002384\n",
       "2024-08-27  15.430000     0.001373\n",
       "2024-08-28  17.110001    -0.005805\n",
       "2024-08-29  15.650000     0.000090\n",
       "2024-08-30  15.000000     0.009546\n",
       "\n",
       "[1174 rows x 2 columns]"
      ],
      "text/html": [
       "<div>\n",
       "<style scoped>\n",
       "    .dataframe tbody tr th:only-of-type {\n",
       "        vertical-align: middle;\n",
       "    }\n",
       "\n",
       "    .dataframe tbody tr th {\n",
       "        vertical-align: top;\n",
       "    }\n",
       "\n",
       "    .dataframe thead th {\n",
       "        text-align: right;\n",
       "    }\n",
       "</style>\n",
       "<table border=\"1\" class=\"dataframe\">\n",
       "  <thead>\n",
       "    <tr style=\"text-align: right;\">\n",
       "      <th></th>\n",
       "      <th>VIX</th>\n",
       "      <th>SPY_Returns</th>\n",
       "    </tr>\n",
       "    <tr>\n",
       "      <th>Dates</th>\n",
       "      <th></th>\n",
       "      <th></th>\n",
       "    </tr>\n",
       "  </thead>\n",
       "  <tbody>\n",
       "    <tr>\n",
       "      <th>2020-01-02</th>\n",
       "      <td>12.470000</td>\n",
       "      <td>NaN</td>\n",
       "    </tr>\n",
       "    <tr>\n",
       "      <th>2020-01-03</th>\n",
       "      <td>14.020000</td>\n",
       "      <td>-0.007572</td>\n",
       "    </tr>\n",
       "    <tr>\n",
       "      <th>2020-01-06</th>\n",
       "      <td>13.850000</td>\n",
       "      <td>0.003815</td>\n",
       "    </tr>\n",
       "    <tr>\n",
       "      <th>2020-01-07</th>\n",
       "      <td>13.790000</td>\n",
       "      <td>-0.002812</td>\n",
       "    </tr>\n",
       "    <tr>\n",
       "      <th>2020-01-08</th>\n",
       "      <td>13.450000</td>\n",
       "      <td>0.005330</td>\n",
       "    </tr>\n",
       "    <tr>\n",
       "      <th>...</th>\n",
       "      <td>...</td>\n",
       "      <td>...</td>\n",
       "    </tr>\n",
       "    <tr>\n",
       "      <th>2024-08-26</th>\n",
       "      <td>16.150000</td>\n",
       "      <td>-0.002384</td>\n",
       "    </tr>\n",
       "    <tr>\n",
       "      <th>2024-08-27</th>\n",
       "      <td>15.430000</td>\n",
       "      <td>0.001373</td>\n",
       "    </tr>\n",
       "    <tr>\n",
       "      <th>2024-08-28</th>\n",
       "      <td>17.110001</td>\n",
       "      <td>-0.005805</td>\n",
       "    </tr>\n",
       "    <tr>\n",
       "      <th>2024-08-29</th>\n",
       "      <td>15.650000</td>\n",
       "      <td>0.000090</td>\n",
       "    </tr>\n",
       "    <tr>\n",
       "      <th>2024-08-30</th>\n",
       "      <td>15.000000</td>\n",
       "      <td>0.009546</td>\n",
       "    </tr>\n",
       "  </tbody>\n",
       "</table>\n",
       "<p>1174 rows × 2 columns</p>\n",
       "</div>"
      ]
     },
     "execution_count": 15,
     "metadata": {},
     "output_type": "execute_result"
    }
   ],
   "execution_count": 15
  },
  {
   "metadata": {
    "ExecuteTime": {
     "end_time": "2024-11-19T07:04:01.370658Z",
     "start_time": "2024-11-19T07:04:01.362564Z"
    }
   },
   "cell_type": "code",
   "source": [
    "# 确保 'spy_close' 是一个 DataFrame 并包含 'Date' 列\n",
    "if isinstance(spy_close, pd.DataFrame) and 'Date' in spy_close.columns:\n",
    "    # 确保 'Date' 列是 datetime 类型\n",
    "    spy_close['Date'] = pd.to_datetime(spy_close['Date'])\n",
    "    \n",
    "    # 将 'Date' 设置为索引\n",
    "    spy_close.set_index('Date', inplace=True)\n",
    "    \n",
    "    # 计算 SPY 的月度标准差\n",
    "    spy_monthly_returns_STD = spy_close['SPY'].resample('ME').std()\n",
    "    \n",
    "    # 输出结果\n",
    "    print(spy_monthly_returns_STD.head())\n",
    "else:\n",
    "    raise ValueError(\"spy_close must be a DataFrame with a 'Date' column.\")\n"
   ],
   "id": "712b5c9f34335c96",
   "outputs": [
    {
     "name": "stdout",
     "output_type": "stream",
     "text": [
      "Date\n",
      "2020-01-31     3.233973\n",
      "2020-02-29    13.365311\n",
      "2020-03-31    26.782776\n",
      "2020-04-30    13.246293\n",
      "2020-05-31     7.232010\n",
      "Freq: ME, Name: SPY, dtype: float64\n"
     ]
    }
   ],
   "execution_count": 18
  },
  {
   "cell_type": "code",
   "id": "372198d7d83eb253",
   "metadata": {
    "ExecuteTime": {
     "end_time": "2024-11-19T07:00:52.284384Z",
     "start_time": "2024-11-19T07:00:52.284204Z"
    }
   },
   "source": [
    "# Calculate the monthly standard dev of the SPY ETF \n",
    "spy_monthly_returns_STD = combined_data['SPY_Returns'].resample('ME').std()\n",
    "# Calculate the monthly VIX\n",
    "vix_monthly = combined_data['VIX'].resample('ME').last()\n",
    "\n",
    "# Combine the monthly VIX and SPY returns into a single dataframe\n",
    "monthly_data_original = pd.DataFrame({'VIX': vix_monthly,'SPY_Monthly_Returns_STD': spy_monthly_returns_STD})\n",
    "monthly_data_original"
   ],
   "outputs": [],
   "execution_count": null
  },
  {
   "cell_type": "code",
   "id": "42235e2e1e8f0958",
   "metadata": {
    "ExecuteTime": {
     "end_time": "2024-11-19T07:00:52.285210Z",
     "start_time": "2024-11-19T07:00:52.285131Z"
    }
   },
   "source": [
    "#remove the dates column\n",
    "monthly_data_original = monthly_data_original.reset_index(drop=True)\n",
    "monthly_data_shift_1 = monthly_data_original.copy()\n",
    "# shift the SPy monthly returns by 1 month\n",
    "monthly_data_shift_1['SPY_Monthly_Returns_STD'] = monthly_data_shift_1['SPY_Monthly_Returns_STD'].shift(-1)\n",
    "monthly_data_shift_1"
   ],
   "outputs": [],
   "execution_count": null
  },
  {
   "cell_type": "code",
   "id": "d21f0e5de53bfad1",
   "metadata": {},
   "source": [
    "monthly_data_shift_1.columns = ['Forecast', 'Actual'] \n",
    "monthly_data_shift_1"
   ],
   "outputs": [],
   "execution_count": null
  },
  {
   "cell_type": "code",
   "id": "dd35ca4b5a484bc2",
   "metadata": {},
   "source": [
    "# Plot the data\n",
    "plt.figure(figsize=(10, 6))\n",
    "plt.scatter(monthly_data_shift_1['Forecast'], monthly_data_shift_1['Actual'], color='g', marker='o')\n",
    "plt.xlabel('Current VIX (Forecast)')\n",
    "plt.ylabel('Standard Deviation of Daily Returns (Actual)')\n",
    "plt.title('Standard Deviation of Daily Returns vs. Current VIX')\n",
    "plt.grid(True)\n",
    "\n",
    "# calculate the correlation between the forecast and the actual\n",
    "correlation_1 = monthly_data_shift_1['Forecast'].corr(monthly_data_shift_1['Actual'])\n",
    "\n",
    "# Add the correlation coefficient to the plot\n",
    "plt.text(40, 0.03, f'r1 = {correlation_1:.3f}', color='yellow', fontsize=12)\n",
    "# add the trendline\n",
    "sns.regplot(x='Forecast', y='Actual', data=monthly_data_shift_1, color='r', scatter=False)\n",
    "plt.show()\n",
    "\n",
    "#show the correlation\n",
    "print(f\"Correlation between the forecast and the actual r1: {correlation_1}\")"
   ],
   "outputs": [],
   "execution_count": null
  },
  {
   "cell_type": "code",
   "id": "b0b1ed1bcac844eb",
   "metadata": {},
   "source": [
    "# Calculate the correlation between the original SPY monthly STD and the shifted SPY monthly STD.\n",
    "monthly_data_cp = pd.DataFrame({'Forecast': monthly_data_original['SPY_Monthly_Returns_STD'],'Actual': monthly_data_shift_1['Actual']})\n",
    "monthly_data_cp"
   ],
   "outputs": [],
   "execution_count": null
  },
  {
   "cell_type": "code",
   "id": "44c6dd0021594740",
   "metadata": {},
   "source": [
    "plt.figure(figsize=(10, 6))\n",
    "plt.scatter(monthly_data_cp['Forecast'], monthly_data_cp['Actual'], color='g', marker='o')\n",
    "plt.xlabel('Current VIX (Forecast)')\n",
    "plt.ylabel('Standard Deviation of Daily Returns (Actual)')\n",
    "plt.title('Standard Deviation of Daily Returns vs. Current VIX')\n",
    "plt.grid(True)\n",
    "# calculate the correlation between the forecast and the actual\n",
    "correlation_2 = monthly_data_cp['Forecast'].corr(monthly_data_cp['Actual'])\n",
    "# Add the correlation coefficient to the plot\n",
    "plt.text(0.05,0.05,f'r2 = {correlation_2:.3f}', color='yellow', fontsize=12)\n",
    "# add the trendline\n",
    "sns.regplot(x='Forecast', y='Actual', data=monthly_data_cp, color='r', scatter=False)\n",
    "\n",
    "plt.show()\n",
    "\n",
    "#show the correlation\n",
    "print(f\"Correlation between the forecast and the actual r2: {correlation_2}\")"
   ],
   "outputs": [],
   "execution_count": null
  },
  {
   "cell_type": "code",
   "id": "5dc6b35640452aec",
   "metadata": {},
   "source": [
    "# use the Fisher z-Transformation to facilitate the test of statistical significance of the difference between r1 and r2:\n",
    "\n",
    "r1 = correlation_1  \n",
    "r2 = correlation_2  \n",
    "n1 = 56     \n",
    "n2 = 56     \n",
    "\n",
    "# Calculate the Fisher Z value\n",
    "z1 = 0.5 * np.log((1 + r1) / (1 - r1))\n",
    "z2 = 0.5 * np.log((1 + r2) / (1 - r2))\n",
    "\n",
    "# calculate the standard error of the z-scores\n",
    "\n",
    "# Standard error\n",
    "sigma_1_2 = np.sqrt(1 / (n1 - 3) + 1 / (n2 - 3))\n",
    "\n",
    "# calculate the z score difference\n",
    "Z = (z1 - z2) / sigma_1_2\n",
    "\n",
    "print(\"z-score difference:\", Z)"
   ],
   "outputs": [],
   "execution_count": null
  },
  {
   "cell_type": "markdown",
   "id": "82084dbd436cd20b",
   "metadata": {},
   "source": [
    "For a 95% confidence interval for the standard normal distribution, the critical values of the two tails, each with a 2.5% probability, are abs(1:960). \n",
    "\n",
    "Since our result is smaller than this, shows that the difference between the two correlations is not statistically significant at the 5% level.\n",
    " \n",
    "For a 99% con…confidence interval, the critical values of the two tails, each with a 0:5% probability, are abs(2.576) instead.\n",
    "\n",
    "Since our result is smaller than this, shows that the difference between the two correlations is not statistically significant at the 1% level.\n"
   ]
  }
 ],
 "metadata": {
  "kernelspec": {
   "display_name": "Python 3 (ipykernel)",
   "language": "python",
   "name": "python3"
  },
  "language_info": {
   "codemirror_mode": {
    "name": "ipython",
    "version": 3
   },
   "file_extension": ".py",
   "mimetype": "text/x-python",
   "name": "python",
   "nbconvert_exporter": "python",
   "pygments_lexer": "ipython3",
   "version": "3.10.10"
  }
 },
 "nbformat": 4,
 "nbformat_minor": 5
}
