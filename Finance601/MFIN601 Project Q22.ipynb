{
 "cells": [
  {
   "cell_type": "code",
   "id": "initial_id",
   "metadata": {
    "collapsed": true,
    "ExecuteTime": {
     "end_time": "2024-11-19T06:40:39.936493Z",
     "start_time": "2024-11-19T06:40:39.763278Z"
    }
   },
   "source": [
    "# import Required Libraries\n",
    "import numpy as np\n",
    "import pandas as pd\n",
    "import yfinance as yf\n",
    "import matplotlib.pyplot as plt\n",
    "from datetime import datetime, timedelta\n",
    "from IPython.display import display"
   ],
   "outputs": [],
   "execution_count": 1
  },
  {
   "metadata": {
    "ExecuteTime": {
     "end_time": "2024-11-19T06:40:40.436547Z",
     "start_time": "2024-11-19T06:40:39.937465Z"
    }
   },
   "cell_type": "code",
   "source": [
    "# define start and end dates based on the case\n",
    "start_date = \"2020-01-01\"  \n",
    "end_date = \"2024-09-01\"\n",
    "\n",
    "# get SPY data\n",
    "spy_data = yf.Ticker(\"SPY\")\n",
    "history = spy_data.history(start=start_date, end=end_date, auto_adjust=False)\n",
    "spy_close = history['Close']\n",
    "spy_dividends = history['Dividends']\n",
    "print(history.columns)\n",
    "\n",
    "# get VIX data\n",
    "vix_data = yf.Ticker(\"^VIX\")\n",
    "history = vix_data.history(start=start_date, end=end_date, auto_adjust=False)\n",
    "vix_close = history['Close']\n",
    "\n",
    "print(vix_close)\n"
   ],
   "id": "c7f647540f5c2e4e",
   "outputs": [
    {
     "name": "stdout",
     "output_type": "stream",
     "text": [
      "Index(['Open', 'High', 'Low', 'Close', 'Adj Close', 'Volume', 'Dividends',\n",
      "       'Stock Splits', 'Capital Gains'],\n",
      "      dtype='object')\n",
      "Date\n",
      "2020-01-02 00:00:00-06:00    12.470000\n",
      "2020-01-03 00:00:00-06:00    14.020000\n",
      "2020-01-06 00:00:00-06:00    13.850000\n",
      "2020-01-07 00:00:00-06:00    13.790000\n",
      "2020-01-08 00:00:00-06:00    13.450000\n",
      "                               ...    \n",
      "2024-08-26 00:00:00-05:00    16.150000\n",
      "2024-08-27 00:00:00-05:00    15.430000\n",
      "2024-08-28 00:00:00-05:00    17.110001\n",
      "2024-08-29 00:00:00-05:00    15.650000\n",
      "2024-08-30 00:00:00-05:00    15.000000\n",
      "Name: Close, Length: 1174, dtype: float64\n"
     ]
    }
   ],
   "execution_count": 2
  },
  {
   "metadata": {
    "ExecuteTime": {
     "end_time": "2024-11-19T06:40:48.415406Z",
     "start_time": "2024-11-19T06:40:48.406352Z"
    }
   },
   "cell_type": "code",
   "source": [
    "# put in a dataframe\n",
    "df = pd.DataFrame({\n",
    "    'spy': spy_close,\n",
    "    'div': spy_dividends\n",
    "})\n",
    "# display result\n",
    "df\n"
   ],
   "id": "f289e5303edd6860",
   "outputs": [
    {
     "data": {
      "text/plain": [
       "                                  spy  div\n",
       "Date                                      \n",
       "2020-01-02 00:00:00-05:00  324.869995  0.0\n",
       "2020-01-03 00:00:00-05:00  322.410004  0.0\n",
       "2020-01-06 00:00:00-05:00  323.640015  0.0\n",
       "2020-01-07 00:00:00-05:00  322.730011  0.0\n",
       "2020-01-08 00:00:00-05:00  324.450012  0.0\n",
       "...                               ...  ...\n",
       "2024-08-26 00:00:00-04:00  560.789978  0.0\n",
       "2024-08-27 00:00:00-04:00  561.559998  0.0\n",
       "2024-08-28 00:00:00-04:00  558.299988  0.0\n",
       "2024-08-29 00:00:00-04:00  558.349976  0.0\n",
       "2024-08-30 00:00:00-04:00  563.679993  0.0\n",
       "\n",
       "[1174 rows x 2 columns]"
      ],
      "text/html": [
       "<div>\n",
       "<style scoped>\n",
       "    .dataframe tbody tr th:only-of-type {\n",
       "        vertical-align: middle;\n",
       "    }\n",
       "\n",
       "    .dataframe tbody tr th {\n",
       "        vertical-align: top;\n",
       "    }\n",
       "\n",
       "    .dataframe thead th {\n",
       "        text-align: right;\n",
       "    }\n",
       "</style>\n",
       "<table border=\"1\" class=\"dataframe\">\n",
       "  <thead>\n",
       "    <tr style=\"text-align: right;\">\n",
       "      <th></th>\n",
       "      <th>spy</th>\n",
       "      <th>div</th>\n",
       "    </tr>\n",
       "    <tr>\n",
       "      <th>Date</th>\n",
       "      <th></th>\n",
       "      <th></th>\n",
       "    </tr>\n",
       "  </thead>\n",
       "  <tbody>\n",
       "    <tr>\n",
       "      <th>2020-01-02 00:00:00-05:00</th>\n",
       "      <td>324.869995</td>\n",
       "      <td>0.0</td>\n",
       "    </tr>\n",
       "    <tr>\n",
       "      <th>2020-01-03 00:00:00-05:00</th>\n",
       "      <td>322.410004</td>\n",
       "      <td>0.0</td>\n",
       "    </tr>\n",
       "    <tr>\n",
       "      <th>2020-01-06 00:00:00-05:00</th>\n",
       "      <td>323.640015</td>\n",
       "      <td>0.0</td>\n",
       "    </tr>\n",
       "    <tr>\n",
       "      <th>2020-01-07 00:00:00-05:00</th>\n",
       "      <td>322.730011</td>\n",
       "      <td>0.0</td>\n",
       "    </tr>\n",
       "    <tr>\n",
       "      <th>2020-01-08 00:00:00-05:00</th>\n",
       "      <td>324.450012</td>\n",
       "      <td>0.0</td>\n",
       "    </tr>\n",
       "    <tr>\n",
       "      <th>...</th>\n",
       "      <td>...</td>\n",
       "      <td>...</td>\n",
       "    </tr>\n",
       "    <tr>\n",
       "      <th>2024-08-26 00:00:00-04:00</th>\n",
       "      <td>560.789978</td>\n",
       "      <td>0.0</td>\n",
       "    </tr>\n",
       "    <tr>\n",
       "      <th>2024-08-27 00:00:00-04:00</th>\n",
       "      <td>561.559998</td>\n",
       "      <td>0.0</td>\n",
       "    </tr>\n",
       "    <tr>\n",
       "      <th>2024-08-28 00:00:00-04:00</th>\n",
       "      <td>558.299988</td>\n",
       "      <td>0.0</td>\n",
       "    </tr>\n",
       "    <tr>\n",
       "      <th>2024-08-29 00:00:00-04:00</th>\n",
       "      <td>558.349976</td>\n",
       "      <td>0.0</td>\n",
       "    </tr>\n",
       "    <tr>\n",
       "      <th>2024-08-30 00:00:00-04:00</th>\n",
       "      <td>563.679993</td>\n",
       "      <td>0.0</td>\n",
       "    </tr>\n",
       "  </tbody>\n",
       "</table>\n",
       "<p>1174 rows × 2 columns</p>\n",
       "</div>"
      ]
     },
     "execution_count": 8,
     "metadata": {},
     "output_type": "execute_result"
    }
   ],
   "execution_count": 8
  },
  {
   "metadata": {
    "ExecuteTime": {
     "end_time": "2024-11-19T06:40:55.255966Z",
     "start_time": "2024-11-19T06:40:55.245883Z"
    }
   },
   "cell_type": "code",
   "source": [
    "# compute SPY Daily Returns\n",
    "df[\"spy-1\"] = df[\"spy\"].shift(1)\n",
    "df[\"Rt\"] = (df[\"spy\"] + df[\"div\"])/ df[\"spy-1\"]-1\n",
    "df"
   ],
   "id": "28f2382f0884f902",
   "outputs": [
    {
     "data": {
      "text/plain": [
       "                                  spy  div       spy-1        Rt\n",
       "Date                                                            \n",
       "2020-01-02 00:00:00-05:00  324.869995  0.0         NaN       NaN\n",
       "2020-01-03 00:00:00-05:00  322.410004  0.0  324.869995 -0.007572\n",
       "2020-01-06 00:00:00-05:00  323.640015  0.0  322.410004  0.003815\n",
       "2020-01-07 00:00:00-05:00  322.730011  0.0  323.640015 -0.002812\n",
       "2020-01-08 00:00:00-05:00  324.450012  0.0  322.730011  0.005330\n",
       "...                               ...  ...         ...       ...\n",
       "2024-08-26 00:00:00-04:00  560.789978  0.0  562.130005 -0.002384\n",
       "2024-08-27 00:00:00-04:00  561.559998  0.0  560.789978  0.001373\n",
       "2024-08-28 00:00:00-04:00  558.299988  0.0  561.559998 -0.005805\n",
       "2024-08-29 00:00:00-04:00  558.349976  0.0  558.299988  0.000090\n",
       "2024-08-30 00:00:00-04:00  563.679993  0.0  558.349976  0.009546\n",
       "\n",
       "[1174 rows x 4 columns]"
      ],
      "text/html": [
       "<div>\n",
       "<style scoped>\n",
       "    .dataframe tbody tr th:only-of-type {\n",
       "        vertical-align: middle;\n",
       "    }\n",
       "\n",
       "    .dataframe tbody tr th {\n",
       "        vertical-align: top;\n",
       "    }\n",
       "\n",
       "    .dataframe thead th {\n",
       "        text-align: right;\n",
       "    }\n",
       "</style>\n",
       "<table border=\"1\" class=\"dataframe\">\n",
       "  <thead>\n",
       "    <tr style=\"text-align: right;\">\n",
       "      <th></th>\n",
       "      <th>spy</th>\n",
       "      <th>div</th>\n",
       "      <th>spy-1</th>\n",
       "      <th>Rt</th>\n",
       "    </tr>\n",
       "    <tr>\n",
       "      <th>Date</th>\n",
       "      <th></th>\n",
       "      <th></th>\n",
       "      <th></th>\n",
       "      <th></th>\n",
       "    </tr>\n",
       "  </thead>\n",
       "  <tbody>\n",
       "    <tr>\n",
       "      <th>2020-01-02 00:00:00-05:00</th>\n",
       "      <td>324.869995</td>\n",
       "      <td>0.0</td>\n",
       "      <td>NaN</td>\n",
       "      <td>NaN</td>\n",
       "    </tr>\n",
       "    <tr>\n",
       "      <th>2020-01-03 00:00:00-05:00</th>\n",
       "      <td>322.410004</td>\n",
       "      <td>0.0</td>\n",
       "      <td>324.869995</td>\n",
       "      <td>-0.007572</td>\n",
       "    </tr>\n",
       "    <tr>\n",
       "      <th>2020-01-06 00:00:00-05:00</th>\n",
       "      <td>323.640015</td>\n",
       "      <td>0.0</td>\n",
       "      <td>322.410004</td>\n",
       "      <td>0.003815</td>\n",
       "    </tr>\n",
       "    <tr>\n",
       "      <th>2020-01-07 00:00:00-05:00</th>\n",
       "      <td>322.730011</td>\n",
       "      <td>0.0</td>\n",
       "      <td>323.640015</td>\n",
       "      <td>-0.002812</td>\n",
       "    </tr>\n",
       "    <tr>\n",
       "      <th>2020-01-08 00:00:00-05:00</th>\n",
       "      <td>324.450012</td>\n",
       "      <td>0.0</td>\n",
       "      <td>322.730011</td>\n",
       "      <td>0.005330</td>\n",
       "    </tr>\n",
       "    <tr>\n",
       "      <th>...</th>\n",
       "      <td>...</td>\n",
       "      <td>...</td>\n",
       "      <td>...</td>\n",
       "      <td>...</td>\n",
       "    </tr>\n",
       "    <tr>\n",
       "      <th>2024-08-26 00:00:00-04:00</th>\n",
       "      <td>560.789978</td>\n",
       "      <td>0.0</td>\n",
       "      <td>562.130005</td>\n",
       "      <td>-0.002384</td>\n",
       "    </tr>\n",
       "    <tr>\n",
       "      <th>2024-08-27 00:00:00-04:00</th>\n",
       "      <td>561.559998</td>\n",
       "      <td>0.0</td>\n",
       "      <td>560.789978</td>\n",
       "      <td>0.001373</td>\n",
       "    </tr>\n",
       "    <tr>\n",
       "      <th>2024-08-28 00:00:00-04:00</th>\n",
       "      <td>558.299988</td>\n",
       "      <td>0.0</td>\n",
       "      <td>561.559998</td>\n",
       "      <td>-0.005805</td>\n",
       "    </tr>\n",
       "    <tr>\n",
       "      <th>2024-08-29 00:00:00-04:00</th>\n",
       "      <td>558.349976</td>\n",
       "      <td>0.0</td>\n",
       "      <td>558.299988</td>\n",
       "      <td>0.000090</td>\n",
       "    </tr>\n",
       "    <tr>\n",
       "      <th>2024-08-30 00:00:00-04:00</th>\n",
       "      <td>563.679993</td>\n",
       "      <td>0.0</td>\n",
       "      <td>558.349976</td>\n",
       "      <td>0.009546</td>\n",
       "    </tr>\n",
       "  </tbody>\n",
       "</table>\n",
       "<p>1174 rows × 4 columns</p>\n",
       "</div>"
      ]
     },
     "execution_count": 9,
     "metadata": {},
     "output_type": "execute_result"
    }
   ],
   "execution_count": 9
  },
  {
   "metadata": {
    "ExecuteTime": {
     "end_time": "2024-11-19T06:40:40.461120Z",
     "start_time": "2024-11-19T06:40:40.459140Z"
    }
   },
   "cell_type": "code",
   "source": "# pick the first month data from the df\n",
   "id": "3b49d2fc75643559",
   "outputs": [],
   "execution_count": 5
  },
  {
   "metadata": {
    "ExecuteTime": {
     "end_time": "2024-11-19T06:40:40.476583Z",
     "start_time": "2024-11-19T06:40:40.461985Z"
    }
   },
   "cell_type": "code",
   "source": [
    "\n",
    "\n",
    "\n",
    "\n",
    "\n",
    "\n",
    "# calculate sample standard deviation by month for SPY\n",
    "monthly_data = df.groupby(pd.Grouper(freq='ME'))['spy'].agg(lambda x: np.std(x, ddof=1)).to_frame(name='S')\n",
    "monthly_data[\"S+1\"] = monthly_data[\"S\"].shift(-1)\n",
    "\n",
    "# add VIX data to the DataFrame\n",
    "monthly_vix = vix_close.resample('ME').last()  # Get VIX values at the end of each month\n",
    "monthly_vix_aligned = monthly_vix.reindex(monthly_data.index, method='nearest')\n",
    "monthly_data['VIX'] = monthly_vix_aligned\n",
    "\n",
    "# display the resulting DataFrame\n",
    "print(monthly_data)\n"
   ],
   "id": "f4ce401f9889afcf",
   "outputs": [
    {
     "name": "stdout",
     "output_type": "stream",
     "text": [
      "                                   S        S+1        VIX\n",
      "Date                                                      \n",
      "2020-01-31 00:00:00-05:00   3.233973  13.365311  18.840000\n",
      "2020-02-29 00:00:00-05:00  13.365311  26.782776  40.110001\n",
      "2020-03-31 00:00:00-04:00  26.782776  13.246293  53.540001\n",
      "2020-04-30 00:00:00-04:00  13.246293   7.232010  34.150002\n",
      "2020-05-31 00:00:00-04:00   7.232010   6.227147  27.510000\n",
      "2020-06-30 00:00:00-04:00   6.227147   4.785479  30.430000\n",
      "2020-07-31 00:00:00-04:00   4.785479   6.250681  24.459999\n",
      "2020-08-31 00:00:00-04:00   6.250681   8.624022  26.410000\n",
      "2020-09-30 00:00:00-04:00   8.624022   7.182037  26.370001\n",
      "2020-10-31 00:00:00-04:00   7.182037   8.938323  38.020000\n",
      "2020-11-30 00:00:00-05:00   8.938323   2.433508  20.570000\n",
      "2020-12-31 00:00:00-05:00   2.433508   4.820420  22.750000\n",
      "2021-01-31 00:00:00-05:00   4.820420   4.807276  33.090000\n",
      "2021-02-28 00:00:00-05:00   4.807276   5.571921  27.950001\n",
      "2021-03-31 00:00:00-04:00   5.571921   4.988774  19.400000\n",
      "2021-04-30 00:00:00-04:00   4.988774   3.976899  18.610001\n",
      "2021-05-31 00:00:00-04:00   3.976899   3.129403  16.760000\n",
      "2021-06-30 00:00:00-04:00   3.129403   3.972871  15.830000\n",
      "2021-07-31 00:00:00-04:00   3.972871   4.112257  18.240000\n",
      "2021-08-31 00:00:00-04:00   4.112257   7.269978  16.480000\n",
      "2021-09-30 00:00:00-04:00   7.269978   9.947225  23.139999\n",
      "2021-10-31 00:00:00-04:00   9.947225   3.884601  16.260000\n",
      "2021-11-30 00:00:00-05:00   3.884601   7.992844  27.190001\n",
      "2021-12-31 00:00:00-05:00   7.992844  15.388455  17.219999\n",
      "2022-01-31 00:00:00-05:00  15.388455   9.842425  24.830000\n",
      "2022-02-28 00:00:00-05:00   9.842425  13.850449  30.150000\n",
      "2022-03-31 00:00:00-04:00  13.850449  12.720144  20.559999\n",
      "2022-04-30 00:00:00-04:00  12.720144  10.866719  33.400002\n",
      "2022-05-31 00:00:00-04:00  10.866719  17.239622  26.190001\n",
      "2022-06-30 00:00:00-04:00  17.239622   9.439940  28.709999\n",
      "2022-07-31 00:00:00-04:00   9.439940   9.527881  21.330000\n",
      "2022-08-31 00:00:00-04:00   9.527881  15.458399  25.870001\n",
      "2022-09-30 00:00:00-04:00  15.458399   9.897551  31.620001\n",
      "2022-10-31 00:00:00-04:00   9.897551  10.662101  25.879999\n",
      "2022-11-30 00:00:00-05:00  10.662101   9.487974  20.580000\n",
      "2022-12-31 00:00:00-05:00   9.487974   8.029716  21.670000\n",
      "2023-01-31 00:00:00-05:00   8.029716   6.801684  19.400000\n",
      "2023-02-28 00:00:00-05:00   6.801684   6.015082  20.700001\n",
      "2023-03-31 00:00:00-04:00   6.015082   3.063427  18.700001\n",
      "2023-04-30 00:00:00-04:00   3.063427   4.001541  15.780000\n",
      "2023-05-31 00:00:00-04:00   4.001541   5.574123  17.940001\n",
      "2023-06-30 00:00:00-04:00   5.574123   6.262987  13.590000\n",
      "2023-07-31 00:00:00-04:00   6.262987   5.544860  13.630000\n",
      "2023-08-31 00:00:00-04:00   5.544860   8.893232  13.570000\n",
      "2023-09-30 00:00:00-04:00   8.893232   7.800651  17.520000\n",
      "2023-10-31 00:00:00-04:00   7.800651  10.133431  18.139999\n",
      "2023-11-30 00:00:00-05:00  10.133431   7.659445  12.920000\n",
      "2023-12-31 00:00:00-05:00   7.659445   7.422096  12.450000\n",
      "2024-01-31 00:00:00-05:00   7.422096   5.689447  14.350000\n",
      "2024-02-29 00:00:00-05:00   5.689447   4.812037  13.400000\n",
      "2024-03-31 00:00:00-04:00   4.812037   8.115643  13.010000\n",
      "2024-04-30 00:00:00-04:00   8.115643   8.462947  15.650000\n",
      "2024-05-31 00:00:00-04:00   8.462947   6.354428  12.920000\n",
      "2024-06-30 00:00:00-04:00   6.354428   7.133534  12.440000\n",
      "2024-07-31 00:00:00-04:00   7.133534  15.458261  16.360001\n",
      "2024-08-31 00:00:00-04:00  15.458261        NaN  15.000000\n"
     ]
    }
   ],
   "execution_count": 6
  },
  {
   "metadata": {
    "ExecuteTime": {
     "end_time": "2024-11-19T06:40:40.690317Z",
     "start_time": "2024-11-19T06:40:40.477718Z"
    }
   },
   "cell_type": "code",
   "source": [
    "# correlation 1 (r1): VIX and SPY Next Month's Std Dev\n",
    "r1 = monthly_data['VIX'].corr(monthly_data['S+1'])\n",
    "N1 = len(monthly_data)\n",
    "print(f\"Correlation (r1) between VIX and SPY next month's Std Dev: {r1}\")\n",
    "print(\"Number of Observations for r1 - \", N2)\n",
    "\n",
    "# correlation 2 (r2): SPY Current and Next Month's Std Dev\n",
    "r2 = monthly_data[\"S\"].corr(monthly_data[\"S+1\"])\n",
    "N2 = len(monthly_data) - 1\n",
    "print(f\"Correlation (r2) between SPY current and next month's Std Dev: {r2}\")\n",
    "print(\"Number of Observations for r2 - \", N2)"
   ],
   "id": "a398facf98703e1a",
   "outputs": [
    {
     "name": "stdout",
     "output_type": "stream",
     "text": [
      "Correlation (r1) between VIX and SPY next month's Std Dev: 0.4081432130091504\n"
     ]
    },
    {
     "ename": "NameError",
     "evalue": "name 'N2' is not defined",
     "output_type": "error",
     "traceback": [
      "\u001B[0;31m---------------------------------------------------------------------------\u001B[0m",
      "\u001B[0;31mNameError\u001B[0m                                 Traceback (most recent call last)",
      "Cell \u001B[0;32mIn[7], line 5\u001B[0m\n\u001B[1;32m      3\u001B[0m N1 \u001B[38;5;241m=\u001B[39m \u001B[38;5;28mlen\u001B[39m(monthly_data)\n\u001B[1;32m      4\u001B[0m \u001B[38;5;28mprint\u001B[39m(\u001B[38;5;124mf\u001B[39m\u001B[38;5;124m\"\u001B[39m\u001B[38;5;124mCorrelation (r1) between VIX and SPY next month\u001B[39m\u001B[38;5;124m'\u001B[39m\u001B[38;5;124ms Std Dev: \u001B[39m\u001B[38;5;132;01m{\u001B[39;00mr1\u001B[38;5;132;01m}\u001B[39;00m\u001B[38;5;124m\"\u001B[39m)\n\u001B[0;32m----> 5\u001B[0m \u001B[38;5;28mprint\u001B[39m(\u001B[38;5;124m\"\u001B[39m\u001B[38;5;124mNumber of Observations for r1 - \u001B[39m\u001B[38;5;124m\"\u001B[39m, \u001B[43mN2\u001B[49m)\n\u001B[1;32m      7\u001B[0m \u001B[38;5;66;03m# correlation 2 (r2): SPY Current and Next Month's Std Dev\u001B[39;00m\n\u001B[1;32m      8\u001B[0m r2 \u001B[38;5;241m=\u001B[39m monthly_data[\u001B[38;5;124m\"\u001B[39m\u001B[38;5;124mS\u001B[39m\u001B[38;5;124m\"\u001B[39m]\u001B[38;5;241m.\u001B[39mcorr(monthly_data[\u001B[38;5;124m\"\u001B[39m\u001B[38;5;124mS+1\u001B[39m\u001B[38;5;124m\"\u001B[39m])\n",
      "\u001B[0;31mNameError\u001B[0m: name 'N2' is not defined"
     ]
    }
   ],
   "execution_count": 7
  },
  {
   "metadata": {},
   "cell_type": "code",
   "source": [
    "# Step 8: Fisher z-Transformation to Compare Correlations\n",
    "z1 = 0.5 * np.log((1 + r1) / (1 - r1))\n",
    "z2 = 0.5 * np.log((1 + r2) / (1 - r2))"
   ],
   "id": "63c4e0a0645048f6",
   "outputs": [],
   "execution_count": null
  },
  {
   "metadata": {},
   "cell_type": "code",
   "source": [
    "# Compute Z statistic\n",
    "z_stat = (z1 - z2) / np.sqrt((1 / (N1 - 3)) + (1 / (N2 - 3)))\n",
    "critical_95 = 1.960  # 95% confidence critical value\n",
    "\n",
    "print(f\"Z-Statistic for difference in correlations: {z_stat}\")\n",
    "if abs(z_stat) > critical_95:\n",
    "    print(\"The difference between r1 and r2 is statistically significant.\")\n",
    "else:\n",
    "    print(\"The difference between r1 and r2 is not statistically significant.\")"
   ],
   "id": "357bee68f795d7e7",
   "outputs": [],
   "execution_count": null
  },
  {
   "metadata": {},
   "cell_type": "code",
   "source": [
    "# Scatter Plot: SPY Current vs Next Month Std Dev\n",
    "x_values = monthly_data[\"S\"].to_numpy()\n",
    "y_values = monthly_data[\"S+1\"].to_numpy()\n",
    "\n",
    "plt.figure(figsize=(4, 4))\n",
    "plt.plot(x_values, y_values, 'k.')\n",
    "plt.xlabel('Std Dev One Month Ahead')\n",
    "plt.ylabel('Std Dev')\n",
    "plt.grid(True)\n",
    "plt.show()"
   ],
   "id": "3ff6b8ab55648d9e",
   "outputs": [],
   "execution_count": null
  },
  {
   "metadata": {},
   "cell_type": "code",
   "source": [
    "# Scatter Plot: VIX vs SPY Std Dev Next Month\n",
    "x_values = monthly_data['VIX'].to_numpy()\n",
    "y_values = monthly_data['S+1'].to_numpy()\n",
    "\n",
    "plt.figure(figsize=(4, 4))\n",
    "plt.plot(x_values, y_values, 'k.')\n",
    "plt.xlabel('VIX (Current Month)')\n",
    "plt.ylabel('SPY Std Dev (Next Month)')\n",
    "plt.title('VIX vs SPY Volatility (Next Month)')\n",
    "plt.grid(True)\n",
    "plt.show()\n"
   ],
   "id": "49d4cf9f9d62febe",
   "outputs": [],
   "execution_count": null
  }
 ],
 "metadata": {
  "kernelspec": {
   "display_name": "Python 3",
   "language": "python",
   "name": "python3"
  },
  "language_info": {
   "codemirror_mode": {
    "name": "ipython",
    "version": 2
   },
   "file_extension": ".py",
   "mimetype": "text/x-python",
   "name": "python",
   "nbconvert_exporter": "python",
   "pygments_lexer": "ipython2",
   "version": "2.7.6"
  }
 },
 "nbformat": 4,
 "nbformat_minor": 5
}
